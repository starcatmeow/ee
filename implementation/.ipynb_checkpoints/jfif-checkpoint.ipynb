{
 "cells": [
  {
   "cell_type": "code",
   "execution_count": null,
   "id": "afc7dc11-47bc-4b1d-8878-e690428cf6a0",
   "metadata": {},
   "outputs": [],
   "source": [
    "# Testing comments\n",
    "\n",
    "print(\"hello world\")"
   ]
  },
  {
   "cell_type": "raw",
   "id": "921a3384-92c1-4d02-bc90-cdcef887753e",
   "metadata": {},
   "source": [
    "test test"
   ]
  },
  {
   "cell_type": "code",
   "execution_count": null,
   "id": "c6478e03",
   "metadata": {},
   "outputs": [],
   "source": [
    "# This should be just a comment"
   ]
  }
 ],
 "metadata": {
  "jupytext": {
   "formats": "ipynb,py:percent"
  },
  "kernelspec": {
   "display_name": "Python 3",
   "language": "python",
   "name": "python3"
  },
  "language_info": {
   "codemirror_mode": {
    "name": "ipython",
    "version": 3
   },
   "file_extension": ".py",
   "mimetype": "text/x-python",
   "name": "python",
   "nbconvert_exporter": "python",
   "pygments_lexer": "ipython3",
   "version": "3.9.6"
  }
 },
 "nbformat": 4,
 "nbformat_minor": 5
}
